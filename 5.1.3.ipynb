{
 "cells": [
  {
   "cell_type": "markdown",
   "id": "136208ad",
   "metadata": {},
   "source": [
    "$Dinamic(1)$"
   ]
  },
  {
   "cell_type": "markdown",
   "id": "b07dfd6e",
   "metadata": {},
   "source": [
    "$V_{накала} = 2.8 V$"
   ]
  },
  {
   "cell_type": "markdown",
   "id": "6deafdf1",
   "metadata": {},
   "source": [
    "$V_{max} = 5 V (2.5 cells)$"
   ]
  },
  {
   "cell_type": "markdown",
   "id": "a8735b39",
   "metadata": {},
   "source": [
    "$V_{min} = 9.6V(4.8 cells)$"
   ]
  },
  {
   "cell_type": "markdown",
   "id": "00d43987",
   "metadata": {},
   "source": [
    "$V_{пробоя} = 14.4V(7.2 cells)$"
   ]
  },
  {
   "cell_type": "markdown",
   "id": "9611215e",
   "metadata": {},
   "source": [
    "$Dinamic(2)$"
   ]
  },
  {
   "cell_type": "markdown",
   "id": "42669f0f",
   "metadata": {},
   "source": [
    "$V_{накала} = 2.57 V$"
   ]
  },
  {
   "cell_type": "markdown",
   "id": "c23af270",
   "metadata": {},
   "source": [
    "$V_{max} = 4.8 V$"
   ]
  },
  {
   "cell_type": "markdown",
   "id": "8fa0f778",
   "metadata": {},
   "source": [
    "$V_{min} = 9.6 V$"
   ]
  },
  {
   "cell_type": "markdown",
   "id": "f328f0b9",
   "metadata": {},
   "source": [
    "$V_{пробоя} = 15.2 V$"
   ]
  },
  {
   "cell_type": "markdown",
   "id": "f9bae0e9",
   "metadata": {},
   "source": [
    "$Static$"
   ]
  },
  {
   "cell_type": "markdown",
   "id": "232ea672",
   "metadata": {},
   "source": [
    "$V_{накала} = 2.57,  $"
   ]
  },
  {
   "cell_type": "markdown",
   "id": "2db3d838",
   "metadata": {},
   "source": [
    "$V_{катод-сетка} = {0.76, 1.79, 2.33, 2.41, 2.43, 2.48, 2.50, 2.58, 2.65, 2.677, 2.767, 2.806, 2.856, 3.054, 3.405, 3.775, 4.187, 4.431, 5.131, 5.627, 5.932, 6.458, 6.853, 7.261, 7.621, 8.087, 8.69, 9.758, 10.655, 11.055, 11.486, 12.246}$"
   ]
  },
  {
   "cell_type": "markdown",
   "id": "84a141f1",
   "metadata": {},
   "source": [
    "$V_{анод} = {0.14, 0.15, 0.46, 0.98, 1.17, 1.92, 2.52, 4.75, 7.18, 8.32, 11.41, 12.78, 14.55, 20.65, 23.40, 23.20, 22.60, 22.26, 20.47, 18.98, 18.20, 16.73, 15.44, 14.09, 12.85, 11.52, 10.28, 8.96, 8.83, 9.02, 9.28, 9.75} V$"
   ]
  },
  {
   "cell_type": "code",
   "execution_count": 46,
   "id": "30fd160b",
   "metadata": {},
   "outputs": [
    {
     "data": {
      "text/plain": [
       "32"
      ]
     },
     "execution_count": 46,
     "metadata": {},
     "output_type": "execute_result"
    },
    {
     "data": {
      "image/png": "[encoded data removed]",
      "text/plain": [
       "<Figure size 432x288 with 1 Axes>"
      ]
     },
     "metadata": {
      "needs_background": "light"
     },
     "output_type": "display_data"
    }
   ],
   "source": [
    "import numpy as np\n",
    "import matplotlib.pyplot as plt\n",
    "\n",
    "V1 = [0.76, 1.79, 2.33, 2.41, 2.43, 2.48, 2.50, 2.58, 2.65, 2.677, 2.767, 2.806, 2.856, 3.054, 3.405, 3.775, 4.187, 4.431, 5.131, 5.627, 5.932, 6.458, 6.853, 7.261, 7.621, 8.087, 8.69, 9.758, 10.655, 11.055, 11.486, 12.246]\n",
    "V2 = [0.14, 0.15, 0.46, 0.98, 1.17, 1.92, 2.52, 4.75, 7.18, 8.32, 11.41, 12.78, 14.55, 20.65, 23.40, 23.20, 22.60, 22.26, 20.47, 18.98, 18.20, 16.73, 15.44, 14.09, 12.85, 11.52, 10.28, 8.96, 8.83, 9.02, 9.28, 9.75]\n",
    "\n",
    "plt.plot(V1, V2, 'o', color = 'c');\n",
    "len(V1)"
   ]
  },
  {
   "cell_type": "code",
   "execution_count": 45,
   "id": "e737a0bc",
   "metadata": {},
   "outputs": [
    {
     "data": {
      "text/plain": [
       "52"
      ]
     },
     "execution_count": 45,
     "metadata": {},
     "output_type": "execute_result"
    },
    {
     "data": {
      "image/png": "[encoded data removed]",
      "text/plain": [
       "<Figure size 432x288 with 1 Axes>"
      ]
     },
     "metadata": {
      "needs_background": "light"
     },
     "output_type": "display_data"
    }
   ],
   "source": [
    "V1 = [-0.039, 1.07, 1.6, 1.76, 1.056, 2.204, 2.331, 2.384, 2.395, 2.511, 2.545, 2.644, 2.662, 2.746, 2.748, 2.837, 2.961, 3.027, 3.191, 3.313, 3.459, 3.696, 3.768, 3.943, 4.0, 4.150, 4.256, 4.524, 4.92, 5.020, 5.144, 5.234, 5.450, 5.572, 5.784, 6.011, 6.215, 6.390, 6.607, 6.918, 7.165, 7.411, 7.753, 8.035, 8.422, 8.880, 9.625, 10.110, 10.485, 10.730, 11.022, 11.695]\n",
    "V2 = [0.15, 0.15, 0.15, 0.16, 0.17, 0.26, 0.7, 1.23, 1.5, 4.75, 6.35, 11.9, 13.20, 18.84, 20.20, 27.22, 37.37, 42.25, 50.16, 53.25, 55.55, 58.20, 59.50, 60.62, 60.93, 61.65, 62.222, 62.83, 62.22, 62.05, 61.61, 61.017, 59.97, 59.1, 58.15, 56.79, 55.56, 54.38, 52.7, 50.15, 47.84, 45.3, 41.97, 39.69, 36.63, 33.87, 30.93, 30.24, 30.29, 30.68, 31.43, 33.20]\n",
    "plt.plot(V1, V2, 'o', color = 'c');\n",
    "len(V2)"
   ]
  },
  {
   "cell_type": "code",
   "execution_count": null,
   "id": "937ece60",
   "metadata": {},
   "outputs": [],
   "source": []
  }
 ],
 "metadata": {
  "kernelspec": {
   "display_name": "Python 3 (ipykernel)",
   "language": "python",
   "name": "python3"
  },
  "language_info": {
   "codemirror_mode": {
    "name": "ipython",
    "version": 3
   },
   "file_extension": ".py",
   "mimetype": "text/x-python",
   "name": "python",
   "nbconvert_exporter": "python",
   "pygments_lexer": "ipython3",
   "version": "3.10.11"
  }
 },
 "nbformat": 4,
 "nbformat_minor": 5
}
