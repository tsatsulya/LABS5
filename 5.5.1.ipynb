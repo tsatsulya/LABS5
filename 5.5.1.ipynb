{
 "cells": [
  {
   "cell_type": "markdown",
   "id": "30c7e029",
   "metadata": {},
   "source": [
    "# 5.5.1 Измерение коэффициента ослабления потока гамма-лучей в веществе и определение их энергии"
   ]
  },
  {
   "cell_type": "markdown",
   "id": "a24253b4",
   "metadata": {},
   "source": [
    "### Цель работы:  с помощью сцинтилляционного счетчика измерить линейные коэффициенты ослабления потока $ \\gamma $-лучей в свинце, железе и алюминии; по их величине определить энергию $ \\gamma $-квантов."
   ]
  },
  {
   "cell_type": "markdown",
   "id": "c69b6fc2",
   "metadata": {},
   "source": [
    "### Теория"
   ]
  },
  {
   "cell_type": "markdown",
   "id": "709cce39",
   "metadata": {},
   "source": [
    "$ \\gamma $-лучи возникают при переходе возбужденных ядер из одного энергетического состояния в другое, более низкое. Энергия $ \\gamma $-квантов обычно заключена между несколькими десятками килоэлектронвольт и несколькими миллионами электрон-вольт. Гамма-кванты не несут электрического заряда, их масса равна нулю. Проходя через вещество, пучок $ \\gamma $-квантов постепенно ослабляется. Ослабление происходит по экспоненциальному закону, который может быть записан в двух эквивалентных нормах:\n",
    "$$I = I_0 e^{-\\mu l}=I_o e^{-\\mu 'm_1} (1) $$\n",
    "\t\n",
    "В этих формулах $ I, I_0 -$  интенсивности прошедшего и падающего излучений, $ l-$  длина пути, пройденного пучком $\\gamma$-лучей, $ m_1 $ - масса пройденного вещества, приходящаяся на единицу площади, $ \\mu $ и $ \\mu' $ - константы, величина которых зависит от вещества, сквозь которое проходят $\\gamma$-лучи. Длину пути $ l $ обычно выражают в сантиметрах, поэтому $ \\mu $ имеет размерность см$ ^{-1} $; величину $ m_1 $ измеряют в г/см$ ^2 $, так что размерность $ \\mu' $ равна см$ ^2 $/г. Форма записи через массу является предпочтительной, потому что $ \\mu' $, в отличие от $ \\mu $, не зависит от плотности среды. \n",
    "\n",
    "Ослабление потока $\\gamma$-лучей, происходящее при прохождении среды, связано с тремя эффектами: фотоэлектрическим поглощением, комптоновским рассеянием и с генерацией электрон-позитронных пар. Рассмотрим эти эффекты.\n",
    "\n",
    "#### Фотоэлектрическое поглощение. \n",
    "При столкновении $\\gamma$-квантов с электронами внутренних атомных оболочек может происходить поглощение квантов. Энергия $\\gamma$-кванта передается соответствующему электрону, а импульс делится между этим электроном и оставшимся после его вылета ионом. Свободный электрон не может поглотить $\\gamma$-квант, так как при этом невозможно одновременно удовлетворить законам сохранения энергии и импульса. Наружные электроны не принимают участия в фотоэлектрическом поглощении, потому что они слабо связаны в атоме, так что их практически можно считать свободными. Вероятность $ dP_{\\text{ф}} $ фотоэлектрического поглощения $\\gamma$-квантов пропорциональна длине пути $ dl $ и плотности электронов в среде (в расчет должны приниматься только электроны, принадлежащие внутренним оболочкам атомов):\n",
    "$$ dP_{\\text{ф}} = \\sigma_{\\text{ф}} n_1 dl $$\n",
    "$$ \\mu_{\\text{ф}} = \\sigma_{\\text{ф}} n_1 $$\n",
    "Здесь $ n_1 $ - плотность внутренних электронов, а $ \\sigma_{\\text{ф}} $ - поперечное сечение фотоэлектрического поглощения. Поперечное сечение характеризует вероятность фотоэффекта, рассчитанную на один электрон. Связь между $ \\mu_{\\text{ф}} $ и $ \\sigma_{\\text{ф}} $ устанавливается из формулы \\{I(mu)} и в явном виде определяет зависимости $ \\mu $ от плотности среды.\n",
    "\t\n",
    "Пусть в результате фотоэффекта энергия $\\gamma$-кванта передается\n",
    "\tэлектрону, находящемуся на $ i $-й оболочке атома. Обозначим через $ W_i $\n",
    "\tэнергию связи этого электрона. После вылета из атома электрон приобретает кинетическую энергию $ T_i = \\hbar \\omega - W_i $.\n",
    "\tОсвободившееся после вылета электрона место заполняется затем\n",
    "\tодним из электронов с вышележащих оболочек. При таких переходах\n",
    "\tвозникает характеристическое рентгеновское излучение.\n",
    "\tВероятность фотоэффекта сложным образом зависит от энергии\n",
    "\t$\\gamma$-лучей и от заряда ядер. Для оценок можно пользоваться формулой\n",
    "\t\n",
    "$$\\sigma_{\\text{ф}} \\propto \\dfrac{Z^5}{(\\hbar\\omega)^{3,5}} (2) $$\n",
    "\t\n",
    "Из формулы этой видно, что вероятность фотоэффекта быстро возрастает при переходе от легких элементов к тяжелым резко падает с увеличением энергии $\\gamma$-квантов. \n",
    "\n",
    "#### Комптоновское рассеяние\n",
    "Комптоновским рассеянием (или комптоновским эффектом) называется упругое столкновение $\\gamma$-кванта с электроном. При таком столкновении $\\gamma$-квант передает электрону часть своей энергии, величина которой определяется углом рассеяния. В отличие от фотоэффекта, который может идти только на сильно связанных электронах, комптоновское рассеяние происходит на свободных или слабосвязанных электронах. Роль эффекта Комптона становится\n",
    "существенной только тогда, когда энергия квантов становится много\n",
    "больше энергии связи электронов в атоме (когда достаточно падает\n",
    "вероятность фотоэффекта). Атомные электроны в этом случае можно\n",
    "считать практически свободными, что обычно и делается при теоретическом анализе.\n",
    "    \t\n",
    "Вероятность комптон-эффекта сложным образом зависит от энергии $\\gamma$-квантов. В том случае, когда энергия\n",
    "$\\gamma$-кванта много больше энергии покоя электрона, формула сильно\n",
    "упрощается, и выражение для сечения комптон-эффекта приобретает  вид:\n",
    "$$ \\sigma_{\\text{к}} = \\pi r^2 \\dfrac{mc^2}{\\hbar\\omega} \\left( \\ln{\\dfrac{2\\hbar\\omega}{mc^2} + \\dfrac{1}{2}} \\right) (4) $$ \n",
    "где $ r \\simeq 2,8 \\cdot 10^{13} $ - классический радиус электрона,$ m $ - его масса. Из формулы следует, что сечение комптон-эффекта с ростом энергии фотонов падает далеко не так резко, как сечение фотоэффекта.\n",
    "Сечение $ \\sigma_{\\text{к}} $ относится к одному свободному электрону, в то время как приведенное выше сечение фотоэффекта рассчитано на атом.\n",
    "Комптоновское рассеяние, отнесенное к атому, оказывается, естественно, в $ Z $ раз больше. \n",
    "\n",
    "Комптоновский коэффициент линейного ослабления $ \\mu_{\\text{к}} $ связан с\n",
    "сечением $ \\sigma_{\\text{к}} $ формулой, аналогичной (2). Под $ n $ следует в этом случае понимать плотность слабо связанных электронов, т. е. практически полную плотность электронов в веществе.\n",
    "Отметим в заключение, что, в отличие от фотоэффекта, эффект\n",
    "Комптона приводит не к поглощению $\\gamma$-квантов, а к их рассеянию и\n",
    "уменьшению их энергии.\n",
    "\n",
    "#### Образование пар\n",
    "\t\n",
    "При энергиях $\\gamma$-лучей, превышающих $ 2mc^2 = 1,02  $МэВ, становится возможен процесс поглощения $\\gamma$-лучей, связанный с образованием электрон-позитронных пар. Рождение пар не\n",
    "может происходить в вакууме, оно возникает в электрическом поле\n",
    "ядер. Вероятность этого процесса приблизительно пропорциональна\n",
    "$ Z^2  $ и сложным образом зависит от энергии фотона. При энергиях больше $ 2mc^2  $ фотоэффект даже для самых тяжелых ядер уже не играет\n",
    "практически никакой роли. Вероятность образования пар должна поэтому сравниваться с вероятностью комптоновского рассеяния. При\n",
    "энергиях, с которыми приходится иметь дело при изучении ядер, рождение пар существенно только в самых тяжелых элементах. Так, даже\n",
    "для свинца вероятность рождения пар сравнивается с вероятностью\n",
    "комптоновского эффекта только при энергии около 4,7 МэВ.\n",
    "\n",
    "Полный линейный коэффициент $ \\mu $ ослабления пучка $\\gamma$-квантов при прохождении через вещество равен сумме коэффициентов для всех трех рассмотренных процессов.\n",
    "\n",
    "Обратимся вновь к формуле (1). Ее нетрудно получить из теоретических соображений. Рассмотрим опыты, поставленные в хорошейгеометрии, т. е. в условиях, когда исследуется прохождение сквозь вещество узкого параллельного пучка $\\gamma$-лучей. В этом случае не только\n",
    "фотоэлектрическое поглощение и генерация пар, но и комптоновское\n",
    "рассеяние выводит $\\gamma$-кванты из пучка.\n",
    "Поэтому при прохождении через вещество меняется только количество, но не энергия $\\gamma$-квантов в пучке, так что коэффициент $ \\mu $, характеризующий поглощение $\\gamma$-квантов в веществе, не зависит от длины\n",
    "пути. Обозначим через $ -dN $ число $\\gamma$-квантов, выбывших из пучка на\n",
    "пути $ dl $. Это число пропорционально имеющемуся их числу $ N $ и пройденному пути $ dl $. Имеем, следовательно,\n",
    "\n",
    "\\begin{equation}\\label{N}\n",
    "-dN = \\mu N dl \\Rightarrow N = N_0 e^{-\\mu l} (5)\n",
    "\\end{equation}\n",
    "\n",
    "т.е то же самое, что и формула (1). В плохой геометрии, когда рассеянные под небольшими углами\n",
    "$\\gamma$-кванты остаются в пучке, их спектр с прохождением вещества меняется, и формула (1), вообще говоря, неприменима. Эта формула, однако, работает и в этом случае лучше, чем можно было бы ожидать. Причина хорошего согласия заключается в том, что $\\gamma$-кванты с энергией 1 - 2 МэВ, потерявшие энергию из-за комптоновского рассеяния,\n",
    "быстро выбывают из пучка из-за резкого увеличения сечений $ \\sigma_{\\text{ф}} $ и $ \\sigma_{\\text{к}} $.\n",
    "\n",
    "В данной работе коэффициент ослабления $ \\mu $ измеряется в хорошей\n",
    "геометрии. Из формулы (1) или (5) имеем\n",
    "\\begin{equation}\\label{mu}\n",
    "\\mu = \\dfrac{1}{l} \\ln{\\dfrac{N_0}{N}}\n",
    "\\end{equation}\n",
    "\t\n",
    "Для определения коэффициента ослабления нужно, таким образом, измерить толщину образца $ l $, число падающих частиц $ N_0 $ и число\n",
    "частиц $ N $, прошедших через образец."
   ]
  },
  {
   "cell_type": "code",
   "execution_count": null,
   "id": "1ebba710",
   "metadata": {},
   "outputs": [],
   "source": [
    "import numpy as np\n",
    "import pandas as pd\n",
    "import matplotlib.pyplot as plt"
   ]
  },
  {
   "cell_type": "markdown",
   "id": "eff73a91",
   "metadata": {},
   "source": [
    "### Результаты измерений"
   ]
  },
  {
   "cell_type": "markdown",
   "id": "6fdc2394",
   "metadata": {},
   "source": [
    "#### Пустой коллиматор\n",
    "\n",
    "В работе считается, что погрешность измерения количества частиц, прошедших через счетчик, можно оценить как $$ \\sigma_N = \\sqrt{N}, $$\n",
    "где $N$ --- количество посчитанных частиц.\n",
    "Включим установку и для начала проверим, работает ли она, убрав все поглощающие элементы (далее нам это так же понадобится).\n",
    "Здесь и далее погрешность среднего считаем по среднеквадратичному отклонению, т.е.\n",
    "$$ \\sigma_{\\overline{x}}' = \\sqrt{\\frac{\\sum\\limits_{i = 1}^N\\left(\\overline{x} - x_i\\right)^2}{\\sqrt{N(N-1)}}} $$\n",
    "А погрешность итоговую среднего значения берем как \n",
    "$$ \\sigma_{\\overline{x}} = \\sqrt{\\sigma_{\\overline{x}}'^2+\\overline{\\sigma_{x_i}}^2} = 300 $$\n"
   ]
  },
  {
   "cell_type": "code",
   "execution_count": 310,
   "id": "422cabd9",
   "metadata": {},
   "outputs": [
    {
     "data": {
      "text/html": [
       "<div>\n",
       "<style scoped>\n",
       "    .dataframe tbody tr th:only-of-type {\n",
       "        vertical-align: middle;\n",
       "    }\n",
       "\n",
       "    .dataframe tbody tr th {\n",
       "        vertical-align: top;\n",
       "    }\n",
       "\n",
       "    .dataframe thead th {\n",
       "        text-align: right;\n",
       "    }\n",
       "</style>\n",
       "<table border=\"1\" class=\"dataframe\">\n",
       "  <thead>\n",
       "    <tr style=\"text-align: right;\">\n",
       "      <th></th>\n",
       "      <th></th>\n",
       "    </tr>\n",
       "  </thead>\n",
       "  <tbody>\n",
       "    <tr>\n",
       "      <th>$\\ noise$</th>\n",
       "      <td>2208.0</td>\n",
       "    </tr>\n",
       "    <tr>\n",
       "      <th>$n_0$</th>\n",
       "      <td>516739.0</td>\n",
       "    </tr>\n",
       "    <tr>\n",
       "      <th>$N_0$</th>\n",
       "      <td>514531.0</td>\n",
       "    </tr>\n",
       "    <tr>\n",
       "      <th>$\\sigma_N$</th>\n",
       "      <td>300.0</td>\n",
       "    </tr>\n",
       "  </tbody>\n",
       "</table>\n",
       "</div>"
      ],
      "text/plain": [
       "                     \n",
       "$\\ noise$      2208.0\n",
       "$n_0$        516739.0\n",
       "$N_0$        514531.0\n",
       "$\\sigma_N$      300.0"
      ]
     },
     "execution_count": 310,
     "metadata": {},
     "output_type": "execute_result"
    }
   ],
   "source": [
    "data_empty = np.array([524899, 513477 , 508833, 519747])\n",
    "errors = [0.01, 0.001, 0.03]\n",
    "n_ = 2208 #noise\n",
    "n0 = np.average(data_empty)\n",
    "N0 = n0-n_\n",
    "dn = 300\n",
    "background = pd.DataFrame([n_, n0, N0, dn], index=[\"$\\ noise$\", \"$n_0$\", \"$N_0$\", \"$\\sigma_N$ \"], columns=[\"\"])\n",
    "background"
   ]
  },
  {
   "cell_type": "code",
   "execution_count": 262,
   "id": "729cbf13",
   "metadata": {},
   "outputs": [],
   "source": [
    "l_al = np.array([19.9, 39.8, 60, 80, 99.5]) / 10\n",
    "data_al = np.array([376485, 271863, 197011, 141008, 103480])\n",
    "Aluminium = pd.DataFrame({\"l, cm\": l_al, \"n\": data_al})\n",
    "l_pb = np.array([10, 21, 31, 40, 51, 62, 71]) / 10\n",
    "data_pb = np.array([329172, 223456, 152889, 107355, 79481, 60344, 45580])\n",
    "Plumbum = pd.DataFrame({\"l, cm\": l_pb, \"n\": data_pb})\n",
    "l_fe = np.array([0.50, 1.01, 1.52, 2, 2.55, 3.06, 3.57])\n",
    "data_fe = np.array([333363, 228598, 180343, 144949, 112542, 83916, 66211])\n",
    "Ferrum = pd.DataFrame({\"l, cm\": l_fe, \"n\": data_fe})"
   ]
  },
  {
   "cell_type": "code",
   "execution_count": 261,
   "id": "01b31859",
   "metadata": {},
   "outputs": [
    {
     "data": {
      "text/html": [
       "<div>\n",
       "<style scoped>\n",
       "    .dataframe tbody tr th:only-of-type {\n",
       "        vertical-align: middle;\n",
       "    }\n",
       "\n",
       "    .dataframe tbody tr th {\n",
       "        vertical-align: top;\n",
       "    }\n",
       "\n",
       "    .dataframe thead th {\n",
       "        text-align: right;\n",
       "    }\n",
       "</style>\n",
       "<table border=\"1\" class=\"dataframe\">\n",
       "  <thead>\n",
       "    <tr style=\"text-align: right;\">\n",
       "      <th></th>\n",
       "      <th>l, cm</th>\n",
       "      <th>n</th>\n",
       "    </tr>\n",
       "  </thead>\n",
       "  <tbody>\n",
       "    <tr>\n",
       "      <th>0</th>\n",
       "      <td>1.99</td>\n",
       "      <td>376485</td>\n",
       "    </tr>\n",
       "    <tr>\n",
       "      <th>1</th>\n",
       "      <td>3.98</td>\n",
       "      <td>271863</td>\n",
       "    </tr>\n",
       "    <tr>\n",
       "      <th>2</th>\n",
       "      <td>6.00</td>\n",
       "      <td>197011</td>\n",
       "    </tr>\n",
       "    <tr>\n",
       "      <th>3</th>\n",
       "      <td>8.00</td>\n",
       "      <td>141008</td>\n",
       "    </tr>\n",
       "    <tr>\n",
       "      <th>4</th>\n",
       "      <td>9.95</td>\n",
       "      <td>103480</td>\n",
       "    </tr>\n",
       "  </tbody>\n",
       "</table>\n",
       "</div>"
      ],
      "text/plain": [
       "   l, cm       n\n",
       "0   1.99  376485\n",
       "1   3.98  271863\n",
       "2   6.00  197011\n",
       "3   8.00  141008\n",
       "4   9.95  103480"
      ]
     },
     "execution_count": 261,
     "metadata": {},
     "output_type": "execute_result"
    }
   ],
   "source": [
    "Aluminium"
   ]
  },
  {
   "cell_type": "code",
   "execution_count": 260,
   "id": "88ebd900",
   "metadata": {},
   "outputs": [
    {
     "data": {
      "text/html": [
       "<div>\n",
       "<style scoped>\n",
       "    .dataframe tbody tr th:only-of-type {\n",
       "        vertical-align: middle;\n",
       "    }\n",
       "\n",
       "    .dataframe tbody tr th {\n",
       "        vertical-align: top;\n",
       "    }\n",
       "\n",
       "    .dataframe thead th {\n",
       "        text-align: right;\n",
       "    }\n",
       "</style>\n",
       "<table border=\"1\" class=\"dataframe\">\n",
       "  <thead>\n",
       "    <tr style=\"text-align: right;\">\n",
       "      <th></th>\n",
       "      <th>l, cm</th>\n",
       "      <th>n</th>\n",
       "    </tr>\n",
       "  </thead>\n",
       "  <tbody>\n",
       "    <tr>\n",
       "      <th>0</th>\n",
       "      <td>1.0</td>\n",
       "      <td>329172</td>\n",
       "    </tr>\n",
       "    <tr>\n",
       "      <th>1</th>\n",
       "      <td>2.1</td>\n",
       "      <td>223456</td>\n",
       "    </tr>\n",
       "    <tr>\n",
       "      <th>2</th>\n",
       "      <td>3.1</td>\n",
       "      <td>152889</td>\n",
       "    </tr>\n",
       "    <tr>\n",
       "      <th>3</th>\n",
       "      <td>4.0</td>\n",
       "      <td>107355</td>\n",
       "    </tr>\n",
       "    <tr>\n",
       "      <th>4</th>\n",
       "      <td>5.1</td>\n",
       "      <td>79481</td>\n",
       "    </tr>\n",
       "    <tr>\n",
       "      <th>5</th>\n",
       "      <td>6.2</td>\n",
       "      <td>60344</td>\n",
       "    </tr>\n",
       "    <tr>\n",
       "      <th>6</th>\n",
       "      <td>7.1</td>\n",
       "      <td>45580</td>\n",
       "    </tr>\n",
       "  </tbody>\n",
       "</table>\n",
       "</div>"
      ],
      "text/plain": [
       "   l, cm       n\n",
       "0    1.0  329172\n",
       "1    2.1  223456\n",
       "2    3.1  152889\n",
       "3    4.0  107355\n",
       "4    5.1   79481\n",
       "5    6.2   60344\n",
       "6    7.1   45580"
      ]
     },
     "execution_count": 260,
     "metadata": {},
     "output_type": "execute_result"
    }
   ],
   "source": [
    "Plumbum"
   ]
  },
  {
   "cell_type": "code",
   "execution_count": 307,
   "id": "c61096c7",
   "metadata": {
    "scrolled": true
   },
   "outputs": [
    {
     "data": {
      "text/html": [
       "<div>\n",
       "<style scoped>\n",
       "    .dataframe tbody tr th:only-of-type {\n",
       "        vertical-align: middle;\n",
       "    }\n",
       "\n",
       "    .dataframe tbody tr th {\n",
       "        vertical-align: top;\n",
       "    }\n",
       "\n",
       "    .dataframe thead th {\n",
       "        text-align: right;\n",
       "    }\n",
       "</style>\n",
       "<table border=\"1\" class=\"dataframe\">\n",
       "  <thead>\n",
       "    <tr style=\"text-align: right;\">\n",
       "      <th></th>\n",
       "      <th>l, cm</th>\n",
       "      <th>n</th>\n",
       "    </tr>\n",
       "  </thead>\n",
       "  <tbody>\n",
       "    <tr>\n",
       "      <th>0</th>\n",
       "      <td>0.50</td>\n",
       "      <td>333363</td>\n",
       "    </tr>\n",
       "    <tr>\n",
       "      <th>1</th>\n",
       "      <td>1.01</td>\n",
       "      <td>228598</td>\n",
       "    </tr>\n",
       "    <tr>\n",
       "      <th>2</th>\n",
       "      <td>1.52</td>\n",
       "      <td>180343</td>\n",
       "    </tr>\n",
       "    <tr>\n",
       "      <th>3</th>\n",
       "      <td>2.00</td>\n",
       "      <td>144949</td>\n",
       "    </tr>\n",
       "    <tr>\n",
       "      <th>4</th>\n",
       "      <td>2.55</td>\n",
       "      <td>112542</td>\n",
       "    </tr>\n",
       "    <tr>\n",
       "      <th>5</th>\n",
       "      <td>3.06</td>\n",
       "      <td>83916</td>\n",
       "    </tr>\n",
       "    <tr>\n",
       "      <th>6</th>\n",
       "      <td>3.57</td>\n",
       "      <td>66211</td>\n",
       "    </tr>\n",
       "  </tbody>\n",
       "</table>\n",
       "</div>"
      ],
      "text/plain": [
       "   l, cm       n\n",
       "0   0.50  333363\n",
       "1   1.01  228598\n",
       "2   1.52  180343\n",
       "3   2.00  144949\n",
       "4   2.55  112542\n",
       "5   3.06   83916\n",
       "6   3.57   66211"
      ]
     },
     "execution_count": 307,
     "metadata": {},
     "output_type": "execute_result"
    }
   ],
   "source": [
    "Ferrum"
   ]
  },
  {
   "cell_type": "markdown",
   "id": "24db6c03",
   "metadata": {},
   "source": [
    "### Обработка результатов"
   ]
  },
  {
   "cell_type": "code",
   "execution_count": 321,
   "id": "ef1b486f",
   "metadata": {},
   "outputs": [],
   "source": [
    "def calculate(name, l, data):\n",
    "    ln = np.around(np.log(N0/(data - n_)), 3)\n",
    "    df = pd.DataFrame({\"l, cm\": l, \"n\": data, \"N\": data - n_, \"ln(N0/N)\": ln})\n",
    "    plt.figure(figsize=(12,8))\n",
    "    plt.plot(l, ln, color = 'c', linestyle='--')\n",
    "    plt.plot(l, ln, 'o', color = 'c');\n",
    "\n",
    "    z = np.polyfit(l, ln, 1)\n",
    "    plt.xlabel('l,cm', color='#1C2833')\n",
    "    plt.ylabel('ln(N0/N)', color='#1C2833')\n",
    "    plt.title(name)\n",
    "    plt.errorbar(l, l*z[0] + z[1], yerr=0.07)\n",
    "    err_mu = 0.07*z[0].round(4)\n",
    "    print(\"K = \"  + str(z[0].round(4)) + ' +- ' + str(err_mu.round(4)))\n",
    "    "
   ]
  },
  {
   "cell_type": "markdown",
   "id": "22628f80",
   "metadata": {},
   "source": [
    "### Aluminum"
   ]
  },
  {
   "cell_type": "code",
   "execution_count": 322,
   "id": "99ceb289",
   "metadata": {},
   "outputs": [
    {
     "name": "stdout",
     "output_type": "stream",
     "text": [
      "K = 0.1644 +- 0.0115\n"
     ]
    },
    {
     "data": {
      "image/png": "[encoded data removed]",
      "text/plain": [
       "<Figure size 864x576 with 1 Axes>"
      ]
     },
     "metadata": {
      "needs_background": "light"
     },
     "output_type": "display_data"
    }
   ],
   "source": [
    "calculate( \"Aluminium\", l_al, data_al)"
   ]
  },
  {
   "cell_type": "markdown",
   "id": "8bb131f2",
   "metadata": {},
   "source": [
    "### Plumbum"
   ]
  },
  {
   "cell_type": "code",
   "execution_count": 323,
   "id": "8890352c",
   "metadata": {},
   "outputs": [
    {
     "name": "stdout",
     "output_type": "stream",
     "text": [
      "K = 0.3295 +- 0.0231\n"
     ]
    },
    {
     "data": {
      "image/png": "[encoded data removed]",
      "text/plain": [
       "<Figure size 864x576 with 1 Axes>"
      ]
     },
     "metadata": {
      "needs_background": "light"
     },
     "output_type": "display_data"
    }
   ],
   "source": [
    "calculate(\"Plumbum\", l_pb, data_pb)"
   ]
  },
  {
   "cell_type": "markdown",
   "id": "96c94012",
   "metadata": {},
   "source": [
    "### Ferrum"
   ]
  },
  {
   "cell_type": "code",
   "execution_count": 324,
   "id": "e6e6be3d",
   "metadata": {},
   "outputs": [
    {
     "name": "stdout",
     "output_type": "stream",
     "text": [
      "K = 0.5192 +- 0.0363\n"
     ]
    },
    {
     "data": {
      "image/png": "[encoded data removed]",
      "text/plain": [
       "<Figure size 864x576 with 1 Axes>"
      ]
     },
     "metadata": {
      "needs_background": "light"
     },
     "output_type": "display_data"
    }
   ],
   "source": [
    "calculate(\"Ferrum\", l_fe, data_fe)"
   ]
  },
  {
   "cell_type": "code",
   "execution_count": 328,
   "id": "142641c3",
   "metadata": {},
   "outputs": [
    {
     "data": {
      "image/png": "[encoded data removed]",
      "text/plain": [
       "<Figure size 432x288 with 1 Axes>"
      ]
     },
     "metadata": {
      "needs_background": "light"
     },
     "output_type": "display_data"
    }
   ],
   "source": [
    "plt.errorbar(l_al, l_al*z_al[0] + z_al[1], yerr=0.07, color = \"red\", label = \"Al\");\n",
    "plt.errorbar(l_pb, l_pb*z_pb[0] + z_pb[1], yerr=0.07, color = \"blue\", label = \"Fe\");\n",
    "plt.errorbar(l_fe, l_fe*z_fe[0] + z_fe[1], yerr=0.07, color = \"orange\", label = \"Pb\")\n",
    "plt.legend(title='')\n",
    "plt.xlabel('l,cm', color='#1C2833')\n",
    "plt.ylabel('ln(N0/N)', color='#1C2833')\n",
    "plt.show()"
   ]
  },
  {
   "cell_type": "markdown",
   "id": "f8ebd4a1",
   "metadata": {},
   "source": [
    "#### Коэффициенты ослабления"
   ]
  },
  {
   "cell_type": "code",
   "execution_count": 340,
   "id": "eebfcd01",
   "metadata": {},
   "outputs": [
    {
     "data": {
      "text/html": [
       "<div>\n",
       "<style scoped>\n",
       "    .dataframe tbody tr th:only-of-type {\n",
       "        vertical-align: middle;\n",
       "    }\n",
       "\n",
       "    .dataframe tbody tr th {\n",
       "        vertical-align: top;\n",
       "    }\n",
       "\n",
       "    .dataframe thead th {\n",
       "        text-align: right;\n",
       "    }\n",
       "</style>\n",
       "<table border=\"1\" class=\"dataframe\">\n",
       "  <thead>\n",
       "    <tr style=\"text-align: right;\">\n",
       "      <th></th>\n",
       "      <th></th>\n",
       "    </tr>\n",
       "  </thead>\n",
       "  <tbody>\n",
       "    <tr>\n",
       "      <th>$\\ Aluminium, $$ {cm^-1} $$ $</th>\n",
       "      <td>0.1644+-0.0115</td>\n",
       "    </tr>\n",
       "    <tr>\n",
       "      <th>$Plumbum, $$ {cm^-1} $$ $</th>\n",
       "      <td>0.5192+-0.0363</td>\n",
       "    </tr>\n",
       "    <tr>\n",
       "      <th>$\\ Ferrum, $$ {cm^-1} $$ $</th>\n",
       "      <td>0.3295+-0.0231</td>\n",
       "    </tr>\n",
       "  </tbody>\n",
       "</table>\n",
       "</div>"
      ],
      "text/plain": [
       "                                             \n",
       "$\\ Aluminium, $$ {cm^-1} $$ $  0.1644+-0.0115\n",
       "$Plumbum, $$ {cm^-1} $$ $      0.5192+-0.0363\n",
       "$\\ Ferrum, $$ {cm^-1} $$ $     0.3295+-0.0231"
      ]
     },
     "execution_count": 340,
     "metadata": {},
     "output_type": "execute_result"
    }
   ],
   "source": [
    "background = pd.DataFrame(['0.1644+-0.0115', '0.5192+-0.0363', '0.3295+-0.0231'], index=[\"$\\ Aluminium, $$ {cm^-1} $$ $\", \"$Plumbum, $$ {cm^-1} $$ $\", \"$\\ Ferrum, $$ {cm^-1} $$ $\",], columns=[\"\"])\n",
    "background"
   ]
  },
  {
   "cell_type": "markdown",
   "id": "5f131858",
   "metadata": {},
   "source": [
    "#### Средняя энергия $\\gamma$-лучей "
   ]
  },
  {
   "cell_type": "markdown",
   "id": "8b819b7e",
   "metadata": {},
   "source": [
    "$$ E = (1.5 + 2.4 + 2.6)/3 = 2.1 Эв $$"
   ]
  }
 ],
 "metadata": {
  "kernelspec": {
   "display_name": "Python 3 (ipykernel)",
   "language": "python",
   "name": "python3"
  },
  "language_info": {
   "codemirror_mode": {
    "name": "ipython",
    "version": 3
   },
   "file_extension": ".py",
   "mimetype": "text/x-python",
   "name": "python",
   "nbconvert_exporter": "python",
   "pygments_lexer": "ipython3",
   "version": "3.10.11"
  }
 },
 "nbformat": 4,
 "nbformat_minor": 5
}
