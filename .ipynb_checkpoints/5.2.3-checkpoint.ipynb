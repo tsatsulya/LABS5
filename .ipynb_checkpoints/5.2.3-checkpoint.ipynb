{
 "cells": [
  {
   "cell_type": "code",
   "execution_count": null,
   "id": "aff2e900",
   "metadata": {},
   "outputs": [],
   "source": [
    "l = 25\n",
    "dl = 0\n",
    "\n",
    "zero_micro_vint = 13 #(small partials)\n",
    "# then we increased on small partials\n",
    "# d_grad = 1\n",
    "\n",
    "# for all strips right one was chosen\n",
    "red_value_neon = 2314 # grad\n",
    "yellow_value_neon = 2178 # grad \n",
    "\n",
    "red_value_hydr    = 2356 # grad \n",
    "yellow_value_hydr = 2132 # grad\n",
    "\n",
    "# Hydrogenium spectrum\n",
    "H_alpha = 2482\n",
    "H_beta = 1472\n",
    "H_gamma = 821\n",
    "H_delta = nullptr\n",
    "\n",
    "#Iodum spectrum\n",
    "1)\n",
    "lamda_first  = 2374 # grad\n",
    "lamda_sixth  = 2326\n",
    "lamda_border = 1674\n",
    "2) \n",
    "lamda_first  = 2408 # grad  \n",
    "lamda_sixth  = 2308\n",
    "labda_border = 1664\n",
    "3)\n",
    "lamda_first  = 2420 # grad\n",
    "lamda_sixth  = 2344\n",
    "lamda_border = 1670\n",
    "4)\n",
    "lamda_first  = 2390 # grad\n",
    "lamda_sixth  = 2302\n",
    "lamda_border = 1672\n",
    "5)\n",
    "lamda_first  = 2412 # grad\n",
    "lamda_sixth  = 2320\n",
    "lamda_border = 1660\n",
    "\n",
    "\n",
    "\n",
    "\n",
    "\n",
    "\n",
    "\n"
   ]
  }
 ],
 "metadata": {
  "kernelspec": {
   "display_name": "Python 3 (ipykernel)",
   "language": "python",
   "name": "python3"
  },
  "language_info": {
   "codemirror_mode": {
    "name": "ipython",
    "version": 3
   },
   "file_extension": ".py",
   "mimetype": "text/x-python",
   "name": "python",
   "nbconvert_exporter": "python",
   "pygments_lexer": "ipython3",
   "version": "3.10.11"
  }
 },
 "nbformat": 4,
 "nbformat_minor": 5
}
