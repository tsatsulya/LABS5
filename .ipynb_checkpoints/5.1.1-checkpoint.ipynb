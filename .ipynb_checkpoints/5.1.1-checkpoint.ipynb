{
 "cells": [
  {
   "cell_type": "code",
   "execution_count": null,
   "id": "71912e45",
   "metadata": {},
   "outputs": [],
   "source": [
    "import numpy as np\n",
    "import pandas as pd\n",
    "import matplotlib.pyplot as plt\n",
    "\n",
    "orange_value_neon = 2206\n",
    "yellow_value_neon = 2100\n",
    "\n",
    "\n",
    "d = 0.35 #mm\n",
    "\n",
    "V_ph = [7.426, 6.038, 5.005, 4.022, 3.033, 2.506, 2.007, 1.509, 1.097, 0.502, 0.203, 0.115, 0.029, 0.002]\n",
    "V_I = [0.651, 0.650, 0.650, 0.650, 0.647, 0.636, 0.624, 0.610, 0.594. 0.562, 0.536, 0.525, 0.511, 0.506]\n",
    "\n",
    "plt.plot(V_ph, V_I, 'o', color = 'c');\n"
   ]
  }
 ],
 "metadata": {
  "kernelspec": {
   "display_name": "Python 3 (ipykernel)",
   "language": "python",
   "name": "python3"
  },
  "language_info": {
   "codemirror_mode": {
    "name": "ipython",
    "version": 3
   },
   "file_extension": ".py",
   "mimetype": "text/x-python",
   "name": "python",
   "nbconvert_exporter": "python",
   "pygments_lexer": "ipython3",
   "version": "3.10.11"
  }
 },
 "nbformat": 4,
 "nbformat_minor": 5
}
